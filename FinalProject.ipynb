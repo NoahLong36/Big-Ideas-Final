{
 "cells": [
  {
   "cell_type": "markdown",
   "metadata": {},
   "source": [
    "# Best Neighborhood in Pittsburgh"
   ]
  },
  {
   "cell_type": "markdown",
   "metadata": {},
   "source": [
    "### Introduction"
   ]
  },
  {
   "cell_type": "markdown",
   "metadata": {},
   "source": [
    "We are finding the best neighborhood to ride a bike in to determine the best neighborhood in Pittsburgh. Using the datasets provided by the WPRDC, we narrowed down the factors to:\n",
    "\n",
    "- Traffic\n",
    "- Public Wifi & Allegheny Zipcodes\n",
    "- Obstructions\n"
   ]
  },
  {
   "cell_type": "markdown",
   "metadata": {},
   "source": [
    "Traffic was included to represent obstacles or delays you may experience on your ride, and the least amount of obstacles or delays from traffic would suffice as a good place to ride your bike in. Access to public wifi helps in case you need to take a break from riding, and have a place that offers online access. The zipcodes were included to find the neighborhood of the public wifi locations. Obstructions were found to find the neighborhoods that have the most, or least permits for obstructions such as traffic obstructions, barricades, and construction.\n"
   ]
  },
  {
   "cell_type": "markdown",
   "metadata": {},
   "source": [
    "### Metric\n"
   ]
  },
  {
   "cell_type": "code",
   "execution_count": null,
   "metadata": {},
   "outputs": [],
   "source": []
  }
 ],
 "metadata": {
  "kernelspec": {
   "display_name": "Python 3",
   "language": "python",
   "name": "python3"
  },
  "language_info": {
   "codemirror_mode": {
    "name": "ipython",
    "version": 3
   },
   "file_extension": ".py",
   "mimetype": "text/x-python",
   "name": "python",
   "nbconvert_exporter": "python",
   "pygments_lexer": "ipython3",
   "version": "3.8.3"
  }
 },
 "nbformat": 4,
 "nbformat_minor": 4
}
